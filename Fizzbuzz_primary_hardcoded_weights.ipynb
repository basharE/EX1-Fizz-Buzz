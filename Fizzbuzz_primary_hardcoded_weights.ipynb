{
  "nbformat": 4,
  "nbformat_minor": 0,
  "metadata": {
    "colab": {
      "name": "Fizzbuzz-primary_hardcoded_weights.ipynb",
      "provenance": [],
      "collapsed_sections": [],
      "toc_visible": true,
      "authorship_tag": "ABX9TyPgfn7OSEfXl5e5DNkTRgQi",
      "include_colab_link": true
    },
    "kernelspec": {
      "name": "python3",
      "display_name": "Python 3"
    }
  },
  "cells": [
    {
      "cell_type": "markdown",
      "metadata": {
        "id": "view-in-github",
        "colab_type": "text"
      },
      "source": [
        "<a href=\"https://colab.research.google.com/github/basharE/EX1-Fizz-Buzz/blob/main/Fizzbuzz_primary_hardcoded_weights.ipynb\" target=\"_parent\"><img src=\"https://colab.research.google.com/assets/colab-badge.svg\" alt=\"Open In Colab\"/></a>"
      ]
    },
    {
      "cell_type": "markdown",
      "metadata": {
        "id": "om_p75weYihM"
      },
      "source": [
        "# Question 8 : FizzBuzz (Primary Representation) with Hardcoded Weights"
      ]
    },
    {
      "cell_type": "markdown",
      "metadata": {
        "id": "D-2KubdnbSgX"
      },
      "source": [
        "### Imports"
      ]
    },
    {
      "cell_type": "code",
      "metadata": {
        "id": "2reNiTzxEC9F",
        "colab": {
          "base_uri": "https://localhost:8080/"
        },
        "outputId": "066492f3-3fcb-4020-eab4-d81acfbdb4dd"
      },
      "source": [
        "import numpy as np\n",
        "import sympy\n",
        "import tensorflow.compat.v1 as tf\n",
        "from sklearn.metrics import confusion_matrix\n",
        "from sklearn.metrics import accuracy_score\n",
        "from sklearn.metrics import classification_report\n",
        "import sys\n",
        "np.set_printoptions(threshold=sys.maxsize)\n",
        "tf.disable_v2_behavior()\n"
      ],
      "execution_count": null,
      "outputs": [
        {
          "output_type": "stream",
          "text": [
            "WARNING:tensorflow:From /usr/local/lib/python3.6/dist-packages/tensorflow/python/compat/v2_compat.py:96: disable_resource_variables (from tensorflow.python.ops.variable_scope) is deprecated and will be removed in a future version.\n",
            "Instructions for updating:\n",
            "non-resource variables are not supported in the long term\n"
          ],
          "name": "stdout"
        }
      ]
    },
    {
      "cell_type": "markdown",
      "metadata": {
        "id": "Ds5TVxZmQ_Gr"
      },
      "source": [
        "### Represent each input by an array of its binary digits.\n"
      ]
    },
    {
      "cell_type": "code",
      "metadata": {
        "id": "GhTqIDbYENvt"
      },
      "source": [
        "def binary_encode(i, num_digits):\n",
        "    return np.array([i >> d & 1 for d in range(num_digits)])\n"
      ],
      "execution_count": null,
      "outputs": []
    },
    {
      "cell_type": "markdown",
      "metadata": {
        "id": "XkNaXNYPZwDA"
      },
      "source": [
        "### Represent each input by an array of its primary represintation.\n"
      ]
    },
    {
      "cell_type": "markdown",
      "metadata": {
        "id": "atLnJQD9iCK7"
      },
      "source": [
        "#### get all the primary numbers between two numers"
      ]
    },
    {
      "cell_type": "code",
      "metadata": {
        "id": "RfteJiWFhLXi"
      },
      "source": [
        "def get_primary(lower,upper):\n",
        "  \n",
        "  np_array = []\n",
        "\n",
        "  for num in range(lower, upper + 1):\n",
        "    if sympy.isprime(num) and num > 1:\n",
        "      np_array.append(num)\n",
        "\n",
        "  return np_array"
      ],
      "execution_count": null,
      "outputs": []
    },
    {
      "cell_type": "markdown",
      "metadata": {
        "id": "6YIuQD_UiSqh"
      },
      "source": [
        "#### get the represintation of any primary number (with limited array of 10 elements, the 10th number represent counter of large primary numbers) "
      ]
    },
    {
      "cell_type": "code",
      "metadata": {
        "id": "-LDYsH9kizex"
      },
      "source": [
        "def get_primary_rep(upper):\n",
        "  lower = 0\n",
        "  np_array = get_primary(lower,upper)\n",
        "  np_index = [0]*10\n",
        "  i=0\n",
        "  while upper > 1 :\n",
        "    if (upper % np_array[i] == 0):\n",
        "      if (i < 9):\n",
        "        np_index[i] = np_index[i]+1\n",
        "      else: np_index[9] = np_index[9]+1\n",
        "      upper/= np_array[i]\n",
        "      i=0\n",
        "    else: i+=1\n",
        "  return np_index"
      ],
      "execution_count": null,
      "outputs": []
    },
    {
      "cell_type": "code",
      "metadata": {
        "id": "VTXE7gNvGndq"
      },
      "source": [
        "def primary_encode():\n",
        "  return np.array([get_primary_rep(i) for i in range(1,101)])"
      ],
      "execution_count": null,
      "outputs": []
    },
    {
      "cell_type": "markdown",
      "metadata": {
        "id": "9gOIvmrnRB5U"
      },
      "source": [
        "### One-hot encode the desired outputs: [number, \"fizz\", \"buzz\", \"fizzbuzz\"]\n"
      ]
    },
    {
      "cell_type": "code",
      "metadata": {
        "id": "Gx9FkLGQERUu"
      },
      "source": [
        "def fizz_buzz_encode(i):\n",
        "    if   i % 15 == 0: return np.array([0, 0, 0, 1])\n",
        "    elif i % 5  == 0: return np.array([0, 0, 1, 0])\n",
        "    elif i % 3  == 0: return np.array([0, 1, 0, 0])\n",
        "    else:             return np.array([1, 0, 0, 0])"
      ],
      "execution_count": null,
      "outputs": []
    },
    {
      "cell_type": "markdown",
      "metadata": {
        "id": "6mfBtQgRRKIp"
      },
      "source": [
        "### Our goal is to produce fizzbuzz for the numbers 1 to 100. So it would be\n",
        "### unfair to include these in our training data. Accordingly, the training data\n",
        "### corresponds to the numbers 101 to (2 ** NUM_DIGITS - 1).\n",
        "\n"
      ]
    },
    {
      "cell_type": "code",
      "metadata": {
        "id": "mmFPD6BCEV5F"
      },
      "source": [
        "NUM_DIGITS = 10\n",
        "trX = np.array([get_primary_rep(i) for i in range(101, 2 ** NUM_DIGITS)])\n",
        "trY = np.array([fizz_buzz_encode(i)          for i in range(101, 2 ** NUM_DIGITS)])"
      ],
      "execution_count": null,
      "outputs": []
    },
    {
      "cell_type": "markdown",
      "metadata": {
        "id": "UZH4nb3NRSNW"
      },
      "source": [
        "### Our variables. The input has width NUM_DIGITS, and the output has width 4.\n"
      ]
    },
    {
      "cell_type": "code",
      "metadata": {
        "id": "RaiLcphfE4g5"
      },
      "source": [
        "X = tf.placeholder(float, [None, NUM_DIGITS])\n",
        "Y = tf.placeholder(float, [None, 4])"
      ],
      "execution_count": null,
      "outputs": []
    },
    {
      "cell_type": "markdown",
      "metadata": {
        "id": "aGxonh33Rksg"
      },
      "source": [
        "### How many units in the hidden layer.\n"
      ]
    },
    {
      "cell_type": "code",
      "metadata": {
        "id": "VM2w4X20RjpB"
      },
      "source": [
        "NUM_HIDDEN = 2"
      ],
      "execution_count": null,
      "outputs": []
    },
    {
      "cell_type": "markdown",
      "metadata": {
        "id": "vMYXTYwqRYf9"
      },
      "source": [
        "### We'll want to hardcoded initialize weights.\n"
      ]
    },
    {
      "cell_type": "code",
      "metadata": {
        "id": "oZtWj803HlKg"
      },
      "source": [
        "def init_weightsH(shape):\n",
        "    arr = np.zeros(shape, dtype = float)\n",
        "    arr[1] = [1,0]\n",
        "    arr[2] = [0,1]\n",
        "    return arr\n",
        "\n",
        "def init_weightsO(shape):\n",
        "    arr = np.zeros(shape, dtype = float)\n",
        "    arr[0] = [0,1,0,1]\n",
        "    arr[1] = [0,0,1,1]\n",
        "    return arr"
      ],
      "execution_count": null,
      "outputs": []
    },
    {
      "cell_type": "markdown",
      "metadata": {
        "id": "JZI2Q1J7RqeV"
      },
      "source": [
        "### Initialize the weights.\n"
      ]
    },
    {
      "cell_type": "code",
      "metadata": {
        "id": "YV9MWNAnRslE"
      },
      "source": [
        "w_h = init_weightsH([NUM_DIGITS, NUM_HIDDEN])\n",
        "w_o = init_weightsO([NUM_HIDDEN, 4])"
      ],
      "execution_count": null,
      "outputs": []
    },
    {
      "cell_type": "markdown",
      "metadata": {
        "id": "B4K012YARVtf"
      },
      "source": [
        "### Our model is a standard 1-hidden-layer multi-layer-perceptron with ReLU\n",
        "### activation. The softmax (which turns arbitrary real-valued outputs into\n",
        "### probabilities) gets applied in the cost function."
      ]
    },
    {
      "cell_type": "code",
      "metadata": {
        "id": "Vdd6FsbUHx56"
      },
      "source": [
        "def model(X, w_h, w_o):\n",
        "    h = tf.nn.relu(tf.matmul(X, w_h))\n",
        "    return tf.matmul(h, w_o)"
      ],
      "execution_count": null,
      "outputs": []
    },
    {
      "cell_type": "markdown",
      "metadata": {
        "id": "d0dE40JvRzo0"
      },
      "source": [
        "### Predict y given x using the model.\n"
      ]
    },
    {
      "cell_type": "code",
      "metadata": {
        "id": "ZMQYPFOwH02L"
      },
      "source": [
        "py_x = model(X, w_h, w_o)"
      ],
      "execution_count": null,
      "outputs": []
    },
    {
      "cell_type": "markdown",
      "metadata": {
        "id": "I1xV5Yr2R_wh"
      },
      "source": [
        "### And we'll make predictions by choosing the largest output.\n"
      ]
    },
    {
      "cell_type": "code",
      "metadata": {
        "id": "KCw7ro22Ls69"
      },
      "source": [
        "predict_op = tf.argmax(py_x, 1)"
      ],
      "execution_count": null,
      "outputs": []
    },
    {
      "cell_type": "markdown",
      "metadata": {
        "id": "VBNuHJuxSC9S"
      },
      "source": [
        "### Finally, we need a way to turn a prediction (and an original number)\n",
        "### into a fizz buzz output"
      ]
    },
    {
      "cell_type": "code",
      "metadata": {
        "id": "OGdRj0DNLxDL"
      },
      "source": [
        "def fizz_buzz(i, prediction):\n",
        "    return [str(i), \"fizz\", \"buzz\", \"fizzbuzz\"][prediction]"
      ],
      "execution_count": null,
      "outputs": []
    },
    {
      "cell_type": "markdown",
      "metadata": {
        "id": "E-hPqC73zGJl"
      },
      "source": [
        "#### Represent each input by an array of its binary digits.\n",
        "\n"
      ]
    },
    {
      "cell_type": "code",
      "metadata": {
        "id": "3F5n524yzYv-"
      },
      "source": [
        "def fizz_buzz_encode_decimal(i):\n",
        "    if   i % 15 == 0: return \"fizzbuzz\"\n",
        "    elif i % 5  == 0: return \"buzz\"\n",
        "    elif i % 3  == 0: return \"fizz\"\n",
        "    else:             return i"
      ],
      "execution_count": null,
      "outputs": []
    },
    {
      "cell_type": "markdown",
      "metadata": {
        "id": "LbLncjCYFS9Y"
      },
      "source": [
        "####For every number will stay the same but if fizz it will be 0.3, buzz will be 0.5 and fizzbuzz will be 0.15"
      ]
    },
    {
      "cell_type": "code",
      "metadata": {
        "id": "bn73RENmGIVc"
      },
      "source": [
        "def convert_fizzbuzz(scores):\n",
        "  scores = np.where(scores=='fizzbuzz', 15, scores)\n",
        "  scores = np.where(scores=='buzz', 5, scores)\n",
        "  scores = np.where(scores=='fizz', 3, scores)\n",
        "  return str(scores)\n",
        "\n"
      ],
      "execution_count": null,
      "outputs": []
    },
    {
      "cell_type": "markdown",
      "metadata": {
        "id": "lBKiaI2PSGq4"
      },
      "source": [
        "### Launch the graph in a session\n"
      ]
    },
    {
      "cell_type": "code",
      "metadata": {
        "id": "Sby2V5mqL0vT",
        "colab": {
          "base_uri": "https://localhost:8080/"
        },
        "outputId": "81ee42ae-a689-49ac-c9ec-7cf045fb492a"
      },
      "source": [
        "BATCH_SIZE = 128\n",
        "# Launch the graph in a session\n",
        "f= open(\"test_primary.txt\",\"w+\")\n",
        "\n",
        "with tf.Session() as sess:\n",
        "    tf.initialize_all_variables().run()\n",
        "    # And now for some fizz buzz\n",
        "      \n",
        "    numbers = np.arange(1, 101)\n",
        "    teX = primary_encode()\n",
        "\n",
        "    teY = sess.run(predict_op, feed_dict={X: teX})\n",
        "    classification_output = np.vectorize(fizz_buzz)(numbers, teY)\n",
        "\n",
        "    f.write(\"\\n########## classification_output ##########\\n\")\n",
        "    f.write(str(classification_output))\n",
        "\n",
        "    true_labels_output = np.array([fizz_buzz_encode_decimal(i) for i in range(1, 101)])\n",
        "    f.write(\"\\n########## true_labels_output ##########\\n\")\n",
        "    f.write(str(true_labels_output))\n",
        "\n",
        "    f.write(\"\\n########## Classifier accuracy ##########\\n\")   \n",
        "    accuracy = accuracy_score(true_labels_output,classification_output)\n",
        "    f.write(str(accuracy))\n",
        "f.write(\"\\n########## End  ##########\\n\")\n",
        "\n",
        "f.close() "
      ],
      "execution_count": null,
      "outputs": [
        {
          "output_type": "stream",
          "text": [
            "WARNING:tensorflow:From /usr/local/lib/python3.6/dist-packages/tensorflow/python/util/tf_should_use.py:247: initialize_all_variables (from tensorflow.python.ops.variables) is deprecated and will be removed after 2017-03-02.\n",
            "Instructions for updating:\n",
            "Use `tf.global_variables_initializer` instead.\n"
          ],
          "name": "stdout"
        }
      ]
    }
  ]
}