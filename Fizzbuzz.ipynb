{
  "nbformat": 4,
  "nbformat_minor": 0,
  "metadata": {
    "colab": {
      "name": "Fizzbuzz.ipynb",
      "provenance": [],
      "collapsed_sections": [],
      "toc_visible": true,
      "authorship_tag": "ABX9TyNsEbQnUrH5FEvXE3yq1nlT",
      "include_colab_link": true
    },
    "kernelspec": {
      "name": "python3",
      "display_name": "Python 3"
    },
    "accelerator": "GPU"
  },
  "cells": [
    {
      "cell_type": "markdown",
      "metadata": {
        "id": "view-in-github",
        "colab_type": "text"
      },
      "source": [
        "<a href=\"https://colab.research.google.com/github/basharE/EX1-Fizz-Buzz/blob/main/Fizzbuzz.ipynb\" target=\"_parent\"><img src=\"https://colab.research.google.com/assets/colab-badge.svg\" alt=\"Open In Colab\"/></a>"
      ]
    },
    {
      "cell_type": "markdown",
      "metadata": {
        "id": "oaPPMq7VXF_Q"
      },
      "source": [
        "# Question 1 (Making FizzBuzz Code Work)"
      ]
    },
    {
      "cell_type": "markdown",
      "metadata": {
        "id": "MS2YMJkDXmEW"
      },
      "source": [
        "## Imports"
      ]
    },
    {
      "cell_type": "code",
      "metadata": {
        "id": "2reNiTzxEC9F"
      },
      "source": [
        "import numpy as np\n",
        "import sympy\n",
        "import tensorflow.compat.v1 as tf\n",
        "from sklearn.metrics import confusion_matrix\n",
        "from sklearn.metrics import accuracy_score\n",
        "from sklearn.metrics import classification_report\n",
        "import sys\n",
        "import matplotlib.pyplot as plt \n",
        "import seaborn as sns\n",
        "\n",
        "np.set_printoptions(threshold=sys.maxsize)\n",
        "tf.disable_v2_behavior()"
      ],
      "execution_count": null,
      "outputs": []
    },
    {
      "cell_type": "markdown",
      "metadata": {
        "id": "Ds5TVxZmQ_Gr"
      },
      "source": [
        "## Represent each input by an array of its binary digits.\n"
      ]
    },
    {
      "cell_type": "code",
      "metadata": {
        "id": "GhTqIDbYENvt"
      },
      "source": [
        "def binary_encode(i, num_digits):\n",
        "    return np.array([i >> d & 1 for d in range(num_digits)])"
      ],
      "execution_count": null,
      "outputs": []
    },
    {
      "cell_type": "markdown",
      "metadata": {
        "id": "9gOIvmrnRB5U"
      },
      "source": [
        "## One-hot encode the desired outputs: [number, \"fizz\", \"buzz\", \"fizzbuzz\"]\n"
      ]
    },
    {
      "cell_type": "code",
      "metadata": {
        "id": "Gx9FkLGQERUu"
      },
      "source": [
        "def fizz_buzz_encode(i):\n",
        "    if   i % 15 == 0: return np.array([0, 0, 0, 1])\n",
        "    elif i % 5  == 0: return np.array([0, 0, 1, 0])\n",
        "    elif i % 3  == 0: return np.array([0, 1, 0, 0])\n",
        "    else:             return np.array([1, 0, 0, 0])"
      ],
      "execution_count": null,
      "outputs": []
    },
    {
      "cell_type": "markdown",
      "metadata": {
        "id": "6mfBtQgRRKIp"
      },
      "source": [
        "## Our goal is to produce fizzbuzz for the numbers 1 to 100. So it would be\n",
        "## unfair to include these in our training data. Accordingly, the training data\n",
        "## corresponds to the numbers 101 to (2 ** NUM_DIGITS - 1).\n",
        "\n"
      ]
    },
    {
      "cell_type": "code",
      "metadata": {
        "id": "mmFPD6BCEV5F"
      },
      "source": [
        "NUM_DIGITS = 10\n",
        "trX = np.array([binary_encode(i,NUM_DIGITS) for i in range(101, 2 ** NUM_DIGITS)])\n",
        "trY = np.array([fizz_buzz_encode(i)          for i in range(101, 2 ** NUM_DIGITS)])"
      ],
      "execution_count": null,
      "outputs": []
    },
    {
      "cell_type": "markdown",
      "metadata": {
        "id": "UZH4nb3NRSNW"
      },
      "source": [
        "## Our variables. The input has width NUM_DIGITS, and the output has width 4.\n"
      ]
    },
    {
      "cell_type": "code",
      "metadata": {
        "id": "RaiLcphfE4g5"
      },
      "source": [
        "\n",
        "X = tf.placeholder(tf.float32, [None, NUM_DIGITS])\n",
        "Y = tf.placeholder(tf.float32, [None, 4])"
      ],
      "execution_count": null,
      "outputs": []
    },
    {
      "cell_type": "markdown",
      "metadata": {
        "id": "aGxonh33Rksg"
      },
      "source": [
        "## How many units in the hidden layer.\n"
      ]
    },
    {
      "cell_type": "code",
      "metadata": {
        "id": "VM2w4X20RjpB"
      },
      "source": [
        "NUM_HIDDEN = 100\n"
      ],
      "execution_count": null,
      "outputs": []
    },
    {
      "cell_type": "markdown",
      "metadata": {
        "id": "vMYXTYwqRYf9"
      },
      "source": [
        "## We'll want to randomly initialize weights.\n"
      ]
    },
    {
      "cell_type": "code",
      "metadata": {
        "id": "oZtWj803HlKg"
      },
      "source": [
        "def init_weights(shape):\n",
        "    return tf.Variable(tf.random_normal(shape, stddev=0.01))"
      ],
      "execution_count": null,
      "outputs": []
    },
    {
      "cell_type": "markdown",
      "metadata": {
        "id": "JZI2Q1J7RqeV"
      },
      "source": [
        "## Initialize the weights.\n"
      ]
    },
    {
      "cell_type": "code",
      "metadata": {
        "id": "YV9MWNAnRslE"
      },
      "source": [
        "w_h = init_weights([NUM_DIGITS, NUM_HIDDEN])\n",
        "w_o = init_weights([NUM_HIDDEN, 4])"
      ],
      "execution_count": null,
      "outputs": []
    },
    {
      "cell_type": "markdown",
      "metadata": {
        "id": "B4K012YARVtf"
      },
      "source": [
        "## Our model is a standard 1-hidden-layer multi-layer-perceptron with ReLU\n",
        "## activation. The softmax (which turns arbitrary real-valued outputs into\n",
        "## probabilities) gets applied in the cost function."
      ]
    },
    {
      "cell_type": "code",
      "metadata": {
        "id": "Vdd6FsbUHx56"
      },
      "source": [
        "def model(X, w_h, w_o):\n",
        "    h = tf.nn.relu(tf.matmul(X, w_h))\n",
        "    return tf.matmul(h, w_o)"
      ],
      "execution_count": null,
      "outputs": []
    },
    {
      "cell_type": "markdown",
      "metadata": {
        "id": "d0dE40JvRzo0"
      },
      "source": [
        "## Predict y given x using the model.\n"
      ]
    },
    {
      "cell_type": "code",
      "metadata": {
        "id": "ZMQYPFOwH02L"
      },
      "source": [
        "py_x = model(X, w_h, w_o)"
      ],
      "execution_count": null,
      "outputs": []
    },
    {
      "cell_type": "markdown",
      "metadata": {
        "id": "5kwetPQPR2ZB"
      },
      "source": [
        "## We'll train our model by minimizing a cost function.\n"
      ]
    },
    {
      "cell_type": "code",
      "metadata": {
        "id": "7LQILQ7wR15j"
      },
      "source": [
        "cost = tf.reduce_mean(tf.nn.softmax_cross_entropy_with_logits(labels=Y, logits=py_x))\n",
        "train_op = tf.train.GradientDescentOptimizer(0.05).minimize(cost)"
      ],
      "execution_count": null,
      "outputs": []
    },
    {
      "cell_type": "markdown",
      "metadata": {
        "id": "I1xV5Yr2R_wh"
      },
      "source": [
        "## And we'll make predictions by choosing the largest output.\n"
      ]
    },
    {
      "cell_type": "code",
      "metadata": {
        "id": "KCw7ro22Ls69"
      },
      "source": [
        "predict_op = tf.argmax(py_x, 1)"
      ],
      "execution_count": null,
      "outputs": []
    },
    {
      "cell_type": "markdown",
      "metadata": {
        "id": "VBNuHJuxSC9S"
      },
      "source": [
        "## Finally, we need a way to turn a prediction (and an original number)\n",
        "## into a fizz buzz output"
      ]
    },
    {
      "cell_type": "code",
      "metadata": {
        "id": "OGdRj0DNLxDL"
      },
      "source": [
        "def fizz_buzz(i, prediction):\n",
        "    return [str(i), \"fizz\", \"buzz\", \"fizzbuzz\"][prediction]"
      ],
      "execution_count": null,
      "outputs": []
    },
    {
      "cell_type": "markdown",
      "metadata": {
        "id": "E-hPqC73zGJl"
      },
      "source": [
        "Represent each input by an array of its binary digits."
      ]
    },
    {
      "cell_type": "code",
      "metadata": {
        "id": "3F5n524yzYv-"
      },
      "source": [
        "def fizz_buzz_encode_decimal(i):\n",
        "    if   i % 15 == 0: return \"fizzbuzz\"\n",
        "    elif i % 5  == 0: return \"buzz\"\n",
        "    elif i % 3  == 0: return \"fizz\"\n",
        "    else:             return i"
      ],
      "execution_count": null,
      "outputs": []
    },
    {
      "cell_type": "markdown",
      "metadata": {
        "id": "LbLncjCYFS9Y"
      },
      "source": [
        "For every number will stay the same but if fizz it will be 0.3, buzz will be 0.5 and fizzbuzz will be 0.15"
      ]
    },
    {
      "cell_type": "code",
      "metadata": {
        "id": "bn73RENmGIVc"
      },
      "source": [
        "def convert_fizzbuzz(scores):\n",
        "  scores = np.where(scores=='fizzbuzz', 15, scores)\n",
        "  scores = np.where(scores=='buzz', 5, scores)\n",
        "  scores = np.where(scores=='fizz', 3, scores)\n",
        "  return str(scores)\n",
        "\n"
      ],
      "execution_count": null,
      "outputs": []
    },
    {
      "cell_type": "markdown",
      "metadata": {
        "id": "jBgaaxowIFIT"
      },
      "source": [
        "Creating a new array of label's results - for ploting (converting the numbers to \"Number\")"
      ]
    },
    {
      "cell_type": "code",
      "metadata": {
        "id": "TJFFOpz0IIty"
      },
      "source": [
        "def fizz_buzz_encode_for_plot(i):\n",
        "    if   i == \"fizzbuzz\": return \"fizzbuzz\"\n",
        "    elif i == \"buzz\": return \"buzz\"\n",
        "    elif i == \"fizz\": return \"fizz\"\n",
        "    else:             return \"Number\""
      ],
      "execution_count": null,
      "outputs": []
    },
    {
      "cell_type": "markdown",
      "metadata": {
        "id": "lBKiaI2PSGq4"
      },
      "source": [
        "## Launch the graph in a session\n"
      ]
    },
    {
      "cell_type": "code",
      "metadata": {
        "id": "Sby2V5mqL0vT"
      },
      "source": [
        "BATCH_SIZE = 128\n",
        "# Launch the graph in a session\n",
        "f= open(\"binary1.txt\",\"w+\")\n",
        "model_accuracy = [0]*10\n",
        "\n",
        "with tf.Session() as sess:\n",
        "    tf.initialize_all_variables().run()\n",
        "    for i in range(10):\n",
        "      for epoch in range(10000):\n",
        "            # Shuffle the data before each training iteration.\n",
        "            p = np.random.permutation(range(len(trX)))\n",
        "            trX, trY = trX[p], trY[p]\n",
        "\n",
        "            # Train in batches of 128 inputs.\n",
        "            for start in range(0, len(trX), BATCH_SIZE):\n",
        "                end = start + BATCH_SIZE\n",
        "                sess.run(train_op, feed_dict={X: trX[start:end], Y: trY[start:end]})\n",
        "\n",
        "            # And print the current accuracy on the training data.\n",
        "            f.write(str(epoch)+ \"  \" + str(np.mean(np.argmax(trY, axis=1) == sess.run(predict_op, feed_dict={X: trX, Y: trY}))) + \"\\n\")\n",
        "            # print(epoch, np.mean(np.argmax(trY, axis=1) ==\n",
        "            #                      sess.run(predict_op, feed_dict={X: trX, Y: trY})))\n",
        "\n",
        "      # And now for some fizz buzz\n",
        "      \n",
        "      numbers = np.arange(1, 101)\n",
        "      teX = np.transpose(binary_encode(numbers,NUM_DIGITS))\n",
        "\n",
        "      teY = sess.run(predict_op, feed_dict={X: teX})\n",
        "      print(teY)\n",
        "      classification_output = np.vectorize(fizz_buzz)(numbers, teY)\n",
        "\n",
        "      f.write(\"\\n########## classification_output ##########\\n\")\n",
        "      f.write(str(classification_output))\n",
        "\n",
        "      true_labels_output = np.array([fizz_buzz_encode_decimal(i) for i in range(1, 101)])\n",
        "      f.write(\"\\n########## true_labels_output ##########\\n\")\n",
        "      f.write(str(true_labels_output))\n",
        "\n",
        "      f.write(\"\\n########## Classifier accuracy ##########\\n\")   \n",
        "      accuracy = accuracy_score(true_labels_output,classification_output)\n",
        "      model_accuracy[i] = accuracy\n",
        "      f.write(str(accuracy))\n",
        "\n",
        "      f.write(\"\\n########## Confusion Matrix ##########\\n\")\n",
        "      f.write(str(confusion_matrix(true_labels_output, classification_output)))\n",
        "\n",
        "      true_labels_output_plot = np.array([fizz_buzz_encode_for_plot(i) for i in true_labels_output])\n",
        "      classification_output_plot = np.array([fizz_buzz_encode_for_plot(i) for i in classification_output])\n",
        "      cm = confusion_matrix(true_labels_output_plot, classification_output_plot,labels=[\"Number\", \"fizz\", \"buzz\", \"fizzbuzz\"])\n",
        "      print(cm)\n",
        "\n",
        "      plt.figure(figsize = (10,6))\n",
        "      matrix = sns.heatmap(cm, cmap = \"Reds\", annot=True)\n",
        "      plt.title('Confusion Matrix of Results', fontsize = 20) # title with fontsize 20\n",
        "      plt.xlabel('Predicted Label', fontsize = 15) # x-axis label with fontsize 15\n",
        "      plt.ylabel('True Label', fontsize = 15) # y-axis label with fontsize 15\n",
        "      #plt.yticks(('Mon','Tue','Wed','Thu'), rotation=0, fontsize=\"10\", va=\"center\")\n",
        "      plt.xticks(np.arange(4)+0.5,[\"Number\", \"fizz\", \"buzz\", \"fizzbuzz\"], rotation=0, fontsize=\"10\", va=\"center\")    \n",
        "      plt.yticks(np.arange(4)+0.5,[\"Number\", \"fizz\", \"buzz\", \"fizzbuzz\"], rotation=0, fontsize=\"10\", va=\"center\")\n",
        "      plt.show()\n",
        "f.write(\"\\n########## Model Accuracy 10x  ##########\\n\")\n",
        "\n",
        "f.write(str(model_accuracy))\n",
        "\n",
        "f.write(\"\\n########## End  ##########\\n\")\n",
        "\n",
        "  \n",
        "# x axis values \n",
        "x = [1,2,3,4,5,6,7,8,9,10] \n",
        "# corresponding y axis values \n",
        "y = model_accuracy \n",
        "  \n",
        "# plotting the points  \n",
        "plt.plot(x, y) \n",
        "  \n",
        "# naming the x axis \n",
        "plt.xlabel('Run Number') \n",
        "# naming the y axis \n",
        "plt.ylabel('Accuracy') \n",
        "  \n",
        "# giving a title to my graph \n",
        "plt.title('10x Accuracy Graph!') \n",
        "  \n",
        "# function to show the plot \n",
        "plt.show() \n",
        "\n",
        "f.close() \n"
      ],
      "execution_count": null,
      "outputs": []
    },
    {
      "cell_type": "markdown",
      "metadata": {
        "id": "ISsR-6b8s1V8"
      },
      "source": [
        "# Question Number 7 \n"
      ]
    },
    {
      "cell_type": "code",
      "metadata": {
        "id": "uGM9X0sPs0h_"
      },
      "source": [
        "def primary_classifier_without_neural_net(primry_encoded_numer):\n",
        "\n",
        "  if   primry_encoded_numer[1] > 0 and primry_encoded_numer[2] > 0 : return \"fizzbuzz\"\n",
        "  elif primry_encoded_numer[2] > 0 : return \"buzz\"\n",
        "  elif primry_encoded_numer[1] > 0 : return \"fizz\"\n",
        "  else: return primry_encoded_numer"
      ],
      "execution_count": null,
      "outputs": []
    }
  ]
}